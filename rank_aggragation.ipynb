{
 "cells": [
  {
   "cell_type": "code",
   "execution_count": 1,
   "metadata": {},
   "outputs": [],
   "source": [
    "# for reading csv & plotting\n",
    "import pandas as pd\n",
    "import numpy as np\n",
    "import seaborn as sns\n",
    "from matplotlib import pyplot as plt\n",
    "\n",
    "# for features selection\n",
    "from sklearn.preprocessing import LabelEncoder\n",
    "from sklearn.feature_selection import SelectKBest, chi2, f_classif, mutual_info_regression, VarianceThreshold, SelectFromModel, RFECV\n",
    "\n",
    "labels = ['normal', 'botnet', 'botnet_spam']"
   ]
  },
  {
   "cell_type": "markdown",
   "metadata": {},
   "source": [
    "#### Import Data"
   ]
  },
  {
   "cell_type": "code",
   "execution_count": null,
   "metadata": {},
   "outputs": [],
   "source": [
    "# Load the datasets\n",
    "original_df = pd.read_csv('Datasets/train-train.csv')"
   ]
  },
  {
   "cell_type": "code",
   "execution_count": 3,
   "metadata": {},
   "outputs": [],
   "source": [
    "df = original_df.copy()"
   ]
  },
  {
   "cell_type": "code",
   "execution_count": 4,
   "metadata": {},
   "outputs": [
    {
     "name": "stdout",
     "output_type": "stream",
     "text": [
      "No  Feature        Types     Num Of Uniques ValuesNaN%                \n",
      "==  =======        =====     =====          =====               \n",
      "0   TotBytes       int64     158360         0.0                 \n",
      "1   Dur            float64   3045745        0.0                 \n",
      "2   udt            int64     2              0.0                 \n",
      "3   rsvp           int64     2              0.0                 \n",
      "4   State          int64     368            0.0                 \n",
      "5   arp            int64     2              0.0                 \n",
      "6   udp            int64     2              0.0                 \n",
      "7   SrcBytes       int64     59614          0.0                 \n",
      "8   DstAddr        int64     214479         0.0                 \n",
      "9   ipv6-icmp      int64     2              0.0                 \n",
      "10  icmp           int64     2              0.0                 \n",
      "11  tcp            int64     2              0.0                 \n",
      "12  SrcAddr        int64     787238         0.0                 \n",
      "13  Dport          int64     81337          0.0                 \n",
      "14  esp            int64     2              0.0                 \n",
      "15  Sport          int64     74398          0.0                 \n",
      "16  llc            int64     2              0.0                 \n",
      "17  ipv6           int64     2              0.0                 \n",
      "18  rtp            int64     2              0.0                 \n",
      "19  pim            int64     2              0.0                 \n",
      "20  gre            int64     2              0.0                 \n",
      "21  unas           int64     2              0.0                 \n",
      "22  TotPkts        int64     9512           0.0                 \n",
      "23  Label          object    3              0.0                 \n",
      "24  Dir            int64     7              0.0                 \n",
      "25  ipnip          int64     1              0.0                 \n",
      "26  igmp           int64     2              0.0                 \n",
      "27  rtcp           int64     2              0.0                 \n",
      "28  ipx/spx        int64     2              0.0                 \n",
      "29  rarp           int64     2              0.0                 \n"
     ]
    }
   ],
   "source": [
    "print(f'{\"No\":<4}{\"Feature\":<15}{\"Types\":<10}{\"Num Of Uniques Values\":<15}{\"NaN%\":<20}')\n",
    "print(f'{\"==\":<4}{\"=======\":<15}{\"=====\":<10}{\"=====\":<15}{\"=====\":<20}')\n",
    "for i, a in enumerate(df):\n",
    "    print(f'{str(i):<4}{a:<15}{str(df[a].dtypes):<10}{len(df[a].unique()):<15}{df[a].isna().sum() / df.shape[0] * 100:<20}')"
   ]
  },
  {
   "cell_type": "markdown",
   "metadata": {},
   "source": [
    "### Preprocessing"
   ]
  },
  {
   "cell_type": "code",
   "execution_count": 5,
   "metadata": {},
   "outputs": [],
   "source": [
    "df = df.drop(\n",
    "    columns=[\n",
    "        'StartTime', \n",
    "        'dTos', \n",
    "        'sTos', \n",
    "        'ActivityLabel', \n",
    "        'SensorId',\n",
    "        'BotnetName'\n",
    "    ], errors='ignore'\n",
    ")"
   ]
  },
  {
   "cell_type": "code",
   "execution_count": 6,
   "metadata": {},
   "outputs": [
    {
     "name": "stdout",
     "output_type": "stream",
     "text": [
      "['TotBytes', 'Dur', 'udt', 'rsvp', 'State', 'arp', 'udp', 'SrcBytes', 'DstAddr', 'ipv6-icmp', 'icmp', 'tcp', 'SrcAddr', 'Dport', 'esp', 'Sport', 'llc', 'ipv6', 'rtp', 'pim', 'gre', 'unas', 'TotPkts', 'Dir', 'ipnip', 'igmp', 'rtcp', 'ipx/spx', 'rarp']\n"
     ]
    }
   ],
   "source": [
    "num_cols = list(df.select_dtypes(include='number').columns)\n",
    "print(num_cols)"
   ]
  },
  {
   "cell_type": "code",
   "execution_count": 7,
   "metadata": {},
   "outputs": [
    {
     "name": "stdout",
     "output_type": "stream",
     "text": [
      "['Label']\n"
     ]
    }
   ],
   "source": [
    "cat_cols = list(df.select_dtypes(include='object').columns)\n",
    "print(cat_cols)"
   ]
  },
  {
   "cell_type": "code",
   "execution_count": 8,
   "metadata": {},
   "outputs": [],
   "source": [
    "# simplify the label column\n",
    "def categorize_label(label):\n",
    "    label = str(label).lower()\n",
    "    if 'botnet' in label:\n",
    "        if 'spam' in label:\n",
    "            return 2\n",
    "        else:\n",
    "            return 1\n",
    "    else:\n",
    "        return 0\n",
    "\n",
    "df['Label'] = df['Label'].apply(categorize_label)"
   ]
  },
  {
   "cell_type": "code",
   "execution_count": 9,
   "metadata": {},
   "outputs": [
    {
     "data": {
      "text/html": [
       "<div>\n",
       "<style scoped>\n",
       "    .dataframe tbody tr th:only-of-type {\n",
       "        vertical-align: middle;\n",
       "    }\n",
       "\n",
       "    .dataframe tbody tr th {\n",
       "        vertical-align: top;\n",
       "    }\n",
       "\n",
       "    .dataframe thead th {\n",
       "        text-align: right;\n",
       "    }\n",
       "</style>\n",
       "<table border=\"1\" class=\"dataframe\">\n",
       "  <thead>\n",
       "    <tr style=\"text-align: right;\">\n",
       "      <th></th>\n",
       "      <th>TotBytes</th>\n",
       "      <th>Dur</th>\n",
       "      <th>udt</th>\n",
       "      <th>rsvp</th>\n",
       "      <th>State</th>\n",
       "      <th>arp</th>\n",
       "      <th>udp</th>\n",
       "      <th>SrcBytes</th>\n",
       "      <th>DstAddr</th>\n",
       "      <th>ipv6-icmp</th>\n",
       "      <th>...</th>\n",
       "      <th>gre</th>\n",
       "      <th>unas</th>\n",
       "      <th>TotPkts</th>\n",
       "      <th>Label</th>\n",
       "      <th>Dir</th>\n",
       "      <th>ipnip</th>\n",
       "      <th>igmp</th>\n",
       "      <th>rtcp</th>\n",
       "      <th>ipx/spx</th>\n",
       "      <th>rarp</th>\n",
       "    </tr>\n",
       "  </thead>\n",
       "  <tbody>\n",
       "    <tr>\n",
       "      <th>0</th>\n",
       "      <td>164</td>\n",
       "      <td>6.988387</td>\n",
       "      <td>0</td>\n",
       "      <td>0</td>\n",
       "      <td>95</td>\n",
       "      <td>0</td>\n",
       "      <td>1</td>\n",
       "      <td>164</td>\n",
       "      <td>9421</td>\n",
       "      <td>0</td>\n",
       "      <td>...</td>\n",
       "      <td>0</td>\n",
       "      <td>0</td>\n",
       "      <td>2</td>\n",
       "      <td>0</td>\n",
       "      <td>0</td>\n",
       "      <td>0</td>\n",
       "      <td>0</td>\n",
       "      <td>0</td>\n",
       "      <td>0</td>\n",
       "      <td>0</td>\n",
       "    </tr>\n",
       "    <tr>\n",
       "      <th>1</th>\n",
       "      <td>278</td>\n",
       "      <td>10.034679</td>\n",
       "      <td>0</td>\n",
       "      <td>0</td>\n",
       "      <td>17</td>\n",
       "      <td>0</td>\n",
       "      <td>1</td>\n",
       "      <td>158</td>\n",
       "      <td>44694</td>\n",
       "      <td>0</td>\n",
       "      <td>...</td>\n",
       "      <td>0</td>\n",
       "      <td>0</td>\n",
       "      <td>4</td>\n",
       "      <td>0</td>\n",
       "      <td>3</td>\n",
       "      <td>0</td>\n",
       "      <td>0</td>\n",
       "      <td>0</td>\n",
       "      <td>0</td>\n",
       "      <td>0</td>\n",
       "    </tr>\n",
       "    <tr>\n",
       "      <th>2</th>\n",
       "      <td>25912</td>\n",
       "      <td>1273.730103</td>\n",
       "      <td>0</td>\n",
       "      <td>0</td>\n",
       "      <td>211</td>\n",
       "      <td>0</td>\n",
       "      <td>1</td>\n",
       "      <td>25912</td>\n",
       "      <td>70783</td>\n",
       "      <td>0</td>\n",
       "      <td>...</td>\n",
       "      <td>0</td>\n",
       "      <td>0</td>\n",
       "      <td>316</td>\n",
       "      <td>1</td>\n",
       "      <td>0</td>\n",
       "      <td>0</td>\n",
       "      <td>0</td>\n",
       "      <td>0</td>\n",
       "      <td>0</td>\n",
       "      <td>0</td>\n",
       "    </tr>\n",
       "    <tr>\n",
       "      <th>3</th>\n",
       "      <td>23946</td>\n",
       "      <td>0.135190</td>\n",
       "      <td>0</td>\n",
       "      <td>0</td>\n",
       "      <td>70</td>\n",
       "      <td>0</td>\n",
       "      <td>0</td>\n",
       "      <td>853</td>\n",
       "      <td>64009</td>\n",
       "      <td>0</td>\n",
       "      <td>...</td>\n",
       "      <td>0</td>\n",
       "      <td>0</td>\n",
       "      <td>32</td>\n",
       "      <td>0</td>\n",
       "      <td>0</td>\n",
       "      <td>0</td>\n",
       "      <td>0</td>\n",
       "      <td>0</td>\n",
       "      <td>0</td>\n",
       "      <td>0</td>\n",
       "    </tr>\n",
       "    <tr>\n",
       "      <th>4</th>\n",
       "      <td>2678</td>\n",
       "      <td>0.159967</td>\n",
       "      <td>0</td>\n",
       "      <td>0</td>\n",
       "      <td>71</td>\n",
       "      <td>0</td>\n",
       "      <td>0</td>\n",
       "      <td>1594</td>\n",
       "      <td>72583</td>\n",
       "      <td>0</td>\n",
       "      <td>...</td>\n",
       "      <td>0</td>\n",
       "      <td>0</td>\n",
       "      <td>17</td>\n",
       "      <td>0</td>\n",
       "      <td>0</td>\n",
       "      <td>0</td>\n",
       "      <td>0</td>\n",
       "      <td>0</td>\n",
       "      <td>0</td>\n",
       "      <td>0</td>\n",
       "    </tr>\n",
       "  </tbody>\n",
       "</table>\n",
       "<p>5 rows × 30 columns</p>\n",
       "</div>"
      ],
      "text/plain": [
       "   TotBytes          Dur  udt  rsvp  State  arp  udp  SrcBytes  DstAddr  \\\n",
       "0       164     6.988387    0     0     95    0    1       164     9421   \n",
       "1       278    10.034679    0     0     17    0    1       158    44694   \n",
       "2     25912  1273.730103    0     0    211    0    1     25912    70783   \n",
       "3     23946     0.135190    0     0     70    0    0       853    64009   \n",
       "4      2678     0.159967    0     0     71    0    0      1594    72583   \n",
       "\n",
       "   ipv6-icmp  ...  gre  unas  TotPkts  Label  Dir  ipnip  igmp  rtcp  ipx/spx  \\\n",
       "0          0  ...    0     0        2      0    0      0     0     0        0   \n",
       "1          0  ...    0     0        4      0    3      0     0     0        0   \n",
       "2          0  ...    0     0      316      1    0      0     0     0        0   \n",
       "3          0  ...    0     0       32      0    0      0     0     0        0   \n",
       "4          0  ...    0     0       17      0    0      0     0     0        0   \n",
       "\n",
       "   rarp  \n",
       "0     0  \n",
       "1     0  \n",
       "2     0  \n",
       "3     0  \n",
       "4     0  \n",
       "\n",
       "[5 rows x 30 columns]"
      ]
     },
     "execution_count": 9,
     "metadata": {},
     "output_type": "execute_result"
    }
   ],
   "source": [
    "df.head()"
   ]
  },
  {
   "cell_type": "code",
   "execution_count": 10,
   "metadata": {},
   "outputs": [
    {
     "data": {
      "text/plain": [
       "(15030469, 30)"
      ]
     },
     "execution_count": 10,
     "metadata": {},
     "output_type": "execute_result"
    }
   ],
   "source": [
    "df.shape"
   ]
  },
  {
   "cell_type": "code",
   "execution_count": 11,
   "metadata": {},
   "outputs": [],
   "source": [
    "x_original = df.drop(columns=['Label'])\n",
    "y = df['Label']"
   ]
  },
  {
   "cell_type": "markdown",
   "metadata": {},
   "source": [
    "#### SKB-C2"
   ]
  },
  {
   "cell_type": "code",
   "execution_count": 12,
   "metadata": {},
   "outputs": [
    {
     "data": {
      "text/plain": [
       "(15030469, 29)"
      ]
     },
     "execution_count": 12,
     "metadata": {},
     "output_type": "execute_result"
    }
   ],
   "source": [
    "x = x_original.copy()\n",
    "x.shape"
   ]
  },
  {
   "cell_type": "code",
   "execution_count": 13,
   "metadata": {},
   "outputs": [
    {
     "name": "stdout",
     "output_type": "stream",
     "text": [
      "      Feature    Chi2 Score        P-Value\n",
      "7    SrcBytes  2.317723e+12   0.000000e+00\n",
      "0    TotBytes  8.859559e+11   0.000000e+00\n",
      "12    SrcAddr  1.448370e+10   0.000000e+00\n",
      "8     DstAddr  1.255027e+10   0.000000e+00\n",
      "15      Sport  8.688201e+09   0.000000e+00\n",
      "13      Dport  2.979914e+09   0.000000e+00\n",
      "22    TotPkts  1.208021e+09   0.000000e+00\n",
      "4       State  1.367870e+08   0.000000e+00\n",
      "1         Dur  3.776797e+07   0.000000e+00\n",
      "11        tcp  8.946061e+05   0.000000e+00\n",
      "23        Dir  8.897202e+05   0.000000e+00\n",
      "6         udp  2.582138e+05   0.000000e+00\n",
      "10       icmp  1.005956e+04   0.000000e+00\n",
      "25       igmp  7.757354e+02  3.558025e-169\n",
      "18        rtp  5.777763e+02  3.447233e-126\n",
      "26       rtcp  4.975488e+02  9.091687e-109\n",
      "5         arp  2.089142e+02   4.313752e-46\n",
      "9   ipv6-icmp  2.456972e+01   4.621174e-06\n",
      "27    ipx/spx  5.057069e+00   7.977583e-02\n",
      "17       ipv6  3.673531e+00   1.593319e-01\n",
      "19        pim  3.578115e+00   1.671176e-01\n",
      "2         udt  2.480826e+00   2.892647e-01\n",
      "14        esp  2.433118e+00   2.962478e-01\n",
      "28       rarp  9.064558e-01   6.355733e-01\n",
      "21       unas  3.816656e-01   8.262707e-01\n",
      "16        llc  3.339574e-01   8.462176e-01\n",
      "20        gre  9.541640e-02   9.534120e-01\n",
      "3        rsvp  4.770820e-02   9.764282e-01\n",
      "24      ipnip           NaN            NaN\n"
     ]
    }
   ],
   "source": [
    "selector = SelectKBest(score_func=chi2, k='all')\n",
    "x_new = selector.fit_transform(x, y)\n",
    "\n",
    "# Get scores and p-values\n",
    "scores = selector.scores_\n",
    "p_values = selector.pvalues_\n",
    "\n",
    "# Create a DataFrame for easy interpretation\n",
    "feature_scores = pd.DataFrame({'Feature': x.columns, 'Chi2 Score': scores, 'P-Value': p_values})\n",
    "feature_scores = feature_scores.sort_values(by='Chi2 Score', ascending=False)\n",
    "\n",
    "print(feature_scores)"
   ]
  },
  {
   "cell_type": "code",
   "execution_count": 14,
   "metadata": {},
   "outputs": [
    {
     "name": "stdout",
     "output_type": "stream",
     "text": [
      "skb-chi2 ['SrcBytes', 'TotBytes', 'SrcAddr', 'DstAddr', 'Sport', 'Dport', 'TotPkts', 'State', 'Dur', 'tcp', 'Dir', 'udp', 'icmp', 'igmp', 'rtp', 'rtcp', 'arp', 'ipv6-icmp', 'ipx/spx', 'ipv6', 'pim', 'udt', 'esp', 'rarp', 'unas', 'llc', 'gre', 'rsvp', 'ipnip']\n"
     ]
    }
   ],
   "source": [
    "result_skb_chi2 = list(feature_scores['Feature'])\n",
    "print('skb-chi2', result_skb_chi2)"
   ]
  },
  {
   "cell_type": "markdown",
   "metadata": {},
   "source": [
    "#### SKB-AF"
   ]
  },
  {
   "cell_type": "code",
   "execution_count": 15,
   "metadata": {},
   "outputs": [],
   "source": [
    "x = x_original.copy()"
   ]
  },
  {
   "cell_type": "code",
   "execution_count": 16,
   "metadata": {},
   "outputs": [
    {
     "name": "stderr",
     "output_type": "stream",
     "text": [
      "c:\\Users\\Irsyad's\\AppData\\Local\\Programs\\Python\\Python313\\Lib\\site-packages\\sklearn\\feature_selection\\_univariate_selection.py:112: UserWarning: Features [24] are constant.\n",
      "  warnings.warn(\"Features %s are constant.\" % constant_features_idx, UserWarning)\n",
      "c:\\Users\\Irsyad's\\AppData\\Local\\Programs\\Python\\Python313\\Lib\\site-packages\\sklearn\\feature_selection\\_univariate_selection.py:113: RuntimeWarning: invalid value encountered in divide\n",
      "  f = msb / msw\n"
     ]
    },
    {
     "name": "stdout",
     "output_type": "stream",
     "text": [
      "      Feature  ANOVA F-Value        P-Value\n",
      "4       State  660825.362911   0.000000e+00\n",
      "11        tcp  616378.113132   0.000000e+00\n",
      "6         udp  594301.105690   0.000000e+00\n",
      "23        Dir  580489.745770   0.000000e+00\n",
      "15      Sport  483592.986207   0.000000e+00\n",
      "8     DstAddr  196855.107806   0.000000e+00\n",
      "13      Dport  115388.673730   0.000000e+00\n",
      "12    SrcAddr   51702.117418   0.000000e+00\n",
      "7    SrcBytes   10006.574964   0.000000e+00\n",
      "1         Dur    8038.491132   0.000000e+00\n",
      "10       icmp    5118.653437   0.000000e+00\n",
      "0    TotBytes    1254.278438   0.000000e+00\n",
      "22    TotPkts     623.057883  2.634000e-271\n",
      "25       igmp     388.307711  2.314518e-169\n",
      "18        rtp     289.134701  2.709009e-126\n",
      "26       rtcp     248.955346  7.618298e-109\n",
      "5         arp     104.488980   4.181462e-46\n",
      "9   ipv6-icmp      12.285300   4.619194e-06\n",
      "27    ipx/spx       2.528553   7.977442e-02\n",
      "17       ipv6       1.836775   1.593304e-01\n",
      "19        pim       1.789067   1.671161e-01\n",
      "2         udt       1.240417   2.892635e-01\n",
      "14        esp       1.216563   2.962466e-01\n",
      "28       rarp       0.453228   6.355729e-01\n",
      "21       unas       0.190833   8.262707e-01\n",
      "16        llc       0.166979   8.462176e-01\n",
      "20        gre       0.047708   9.534120e-01\n",
      "3        rsvp       0.023854   9.764282e-01\n",
      "24      ipnip            NaN            NaN\n"
     ]
    }
   ],
   "source": [
    "selector = SelectKBest(score_func=f_classif, k='all')\n",
    "x_new = selector.fit_transform(x, y)\n",
    "\n",
    "# Get scores and p-values\n",
    "scores = selector.scores_\n",
    "p_values = selector.pvalues_\n",
    "\n",
    "# Create a DataFrame for easy interpretation\n",
    "feature_scores = pd.DataFrame({'Feature': x.columns, 'ANOVA F-Value': scores, 'P-Value': p_values})\n",
    "feature_scores = feature_scores.sort_values(by='ANOVA F-Value', ascending=False)\n",
    "\n",
    "print(feature_scores)"
   ]
  },
  {
   "cell_type": "code",
   "execution_count": 17,
   "metadata": {},
   "outputs": [
    {
     "name": "stdout",
     "output_type": "stream",
     "text": [
      "skb-af ['State', 'tcp', 'udp', 'Dir', 'Sport', 'DstAddr', 'Dport', 'SrcAddr', 'SrcBytes', 'Dur', 'icmp', 'TotBytes', 'TotPkts', 'igmp', 'rtp', 'rtcp', 'arp', 'ipv6-icmp', 'ipx/spx', 'ipv6', 'pim', 'udt', 'esp', 'rarp', 'unas', 'llc', 'gre', 'rsvp', 'ipnip']\n"
     ]
    }
   ],
   "source": [
    "result_skb_af = list(feature_scores['Feature'])\n",
    "print('skb-af', result_skb_af)"
   ]
  },
  {
   "cell_type": "markdown",
   "metadata": {},
   "source": [
    "#### SKB-MI"
   ]
  },
  {
   "cell_type": "code",
   "execution_count": 18,
   "metadata": {},
   "outputs": [],
   "source": [
    "x = x_original.copy()"
   ]
  },
  {
   "cell_type": "code",
   "execution_count": 19,
   "metadata": {},
   "outputs": [
    {
     "name": "stdout",
     "output_type": "stream",
     "text": [
      "      Feature  MI Score\n",
      "12    SrcAddr  0.186047\n",
      "8     DstAddr  0.144619\n",
      "1         Dur  0.139296\n",
      "0    TotBytes  0.111925\n",
      "13      Dport  0.109673\n",
      "15      Sport  0.099079\n",
      "7    SrcBytes  0.093286\n",
      "4       State  0.065569\n",
      "22    TotPkts  0.042150\n",
      "23        Dir  0.032931\n",
      "6         udp  0.031347\n",
      "11        tcp  0.030497\n",
      "10       icmp  0.000469\n",
      "20        gre  0.000401\n",
      "16        llc  0.000262\n",
      "9   ipv6-icmp  0.000213\n",
      "19        pim  0.000104\n",
      "18        rtp  0.000090\n",
      "26       rtcp  0.000071\n",
      "28       rarp  0.000047\n",
      "25       igmp  0.000038\n",
      "5         arp  0.000000\n",
      "3        rsvp  0.000000\n",
      "2         udt  0.000000\n",
      "14        esp  0.000000\n",
      "17       ipv6  0.000000\n",
      "21       unas  0.000000\n",
      "24      ipnip  0.000000\n",
      "27    ipx/spx  0.000000\n"
     ]
    }
   ],
   "source": [
    "selector = SelectKBest(score_func=mutual_info_regression, k='all')\n",
    "x_new = selector.fit_transform(x, y)\n",
    "\n",
    "scores = selector.scores_\n",
    "\n",
    "# Create a DataFrame for easy interpretation\n",
    "feature_scores = pd.DataFrame({'Feature': x.columns, 'MI Score': scores})\n",
    "feature_scores = feature_scores.sort_values(by='MI Score', ascending=False)\n",
    "\n",
    "print(feature_scores)"
   ]
  },
  {
   "cell_type": "code",
   "execution_count": 20,
   "metadata": {},
   "outputs": [
    {
     "name": "stdout",
     "output_type": "stream",
     "text": [
      "skb-mi ['SrcAddr', 'DstAddr', 'Dur', 'TotBytes', 'Dport', 'Sport', 'SrcBytes', 'State', 'TotPkts', 'Dir', 'udp', 'tcp', 'icmp', 'gre', 'llc', 'ipv6-icmp', 'pim', 'rtp', 'rtcp', 'rarp', 'igmp', 'arp', 'rsvp', 'udt', 'esp', 'ipv6', 'unas', 'ipnip', 'ipx/spx']\n"
     ]
    }
   ],
   "source": [
    "result_skb_mi = list(feature_scores['Feature'])\n",
    "print('skb-mi', result_skb_mi)"
   ]
  },
  {
   "cell_type": "markdown",
   "metadata": {},
   "source": [
    "#### Variance Threshold (VT)"
   ]
  },
  {
   "cell_type": "code",
   "execution_count": 21,
   "metadata": {},
   "outputs": [],
   "source": [
    "x = x_original.copy()"
   ]
  },
  {
   "cell_type": "code",
   "execution_count": 22,
   "metadata": {},
   "outputs": [
    {
     "name": "stdout",
     "output_type": "stream",
     "text": [
      "TotBytes     1.388817e+13\n",
      "SrcBytes     1.634101e+12\n",
      "SrcAddr      2.087886e+10\n",
      "DstAddr      1.230148e+09\n",
      "Dport        4.964124e+08\n",
      "Sport        3.607977e+08\n",
      "TotPkts      5.082002e+07\n",
      "Dur          8.065728e+05\n",
      "State        5.348884e+03\n",
      "Dir          1.802999e+00\n",
      "udp          1.794677e-01\n",
      "tcp          1.686523e-01\n",
      "icmp         1.641520e-02\n",
      "igmp         1.080632e-03\n",
      "rtp          8.138155e-04\n",
      "rtcp         6.933758e-04\n",
      "arp          2.912567e-04\n",
      "ipv6-icmp    3.426256e-05\n",
      "ipx/spx      7.052292e-06\n",
      "ipv6         5.122901e-06\n",
      "pim          4.989839e-06\n",
      "udt          3.459627e-06\n",
      "esp          3.393096e-06\n",
      "rarp         1.264097e-06\n",
      "unas         5.322519e-07\n",
      "llc          4.657204e-07\n",
      "gre          1.330630e-07\n",
      "rsvp         6.653152e-08\n",
      "ipnip        0.000000e+00\n",
      "Name: Variance, dtype: float64\n"
     ]
    }
   ],
   "source": [
    "# Example: Compute variance for all features\n",
    "feature_scores = pd.DataFrame({\n",
    "    'Feature': x.columns,\n",
    "    'Variance': np.var(x, axis=0)  # Variance across rows (samples)\n",
    "})\n",
    "feature_scores = feature_scores.sort_values(by='Variance', ascending=False)\n",
    "\n",
    "print(feature_scores['Variance'])"
   ]
  },
  {
   "cell_type": "code",
   "execution_count": 23,
   "metadata": {},
   "outputs": [],
   "source": [
    "result_vt = list(feature_scores['Feature'])"
   ]
  },
  {
   "cell_type": "code",
   "execution_count": 24,
   "metadata": {},
   "outputs": [
    {
     "name": "stdout",
     "output_type": "stream",
     "text": [
      "vt ['TotBytes', 'SrcBytes', 'SrcAddr', 'DstAddr', 'Dport', 'Sport', 'TotPkts', 'Dur', 'State', 'Dir', 'udp', 'tcp', 'icmp', 'igmp', 'rtp', 'rtcp', 'arp', 'ipv6-icmp', 'ipx/spx', 'ipv6', 'pim', 'udt', 'esp', 'rarp', 'unas', 'llc', 'gre', 'rsvp', 'ipnip']\n"
     ]
    }
   ],
   "source": [
    "print('vt', result_vt)"
   ]
  },
  {
   "cell_type": "markdown",
   "metadata": {},
   "source": [
    "#### Backward Elimination (BE)"
   ]
  },
  {
   "cell_type": "code",
   "execution_count": 25,
   "metadata": {},
   "outputs": [],
   "source": [
    "x = x_original.copy()"
   ]
  },
  {
   "cell_type": "code",
   "execution_count": 26,
   "metadata": {},
   "outputs": [
    {
     "name": "stdout",
     "output_type": "stream",
     "text": [
      "['TotBytes', 'Dur', 'State', 'SrcBytes', 'DstAddr', 'tcp', 'SrcAddr', 'Dport', 'Sport']\n"
     ]
    }
   ],
   "source": [
    "from sklearn.tree import DecisionTreeClassifier\n",
    "\n",
    "# Initialize the Decision Tree Classifier model\n",
    "model = DecisionTreeClassifier()\n",
    "rank = []\n",
    "\n",
    "# Backward Elimination\n",
    "cols = list(x.columns)\n",
    "while len(cols) > 0:\n",
    "    # Fit the model\n",
    "    model.fit(x[cols], y)\n",
    "\n",
    "    # Get feature importances\n",
    "    feature_importances = model.feature_importances_\n",
    "\n",
    "    # Create a pandas Series with feature importances and corresponding columns\n",
    "    imp_series = pd.Series(feature_importances, index=cols)\n",
    "\n",
    "    # Identify the least important feature\n",
    "    least_important_feature = imp_series.idxmin()\n",
    "\n",
    "    # If the least important feature's importance is below a certain threshold (e.g., 0.01), remove it\n",
    "    if imp_series.min() < 0.01:\n",
    "        rank.append(least_important_feature)\n",
    "        cols.remove(least_important_feature)\n",
    "    else:\n",
    "        break\n",
    "\n",
    "selected_features_BE = cols\n",
    "print(selected_features_BE)\n",
    "\n",
    "x_new = x[selected_features_BE]"
   ]
  },
  {
   "cell_type": "code",
   "execution_count": 27,
   "metadata": {},
   "outputs": [
    {
     "name": "stdout",
     "output_type": "stream",
     "text": [
      "['udt', 'rsvp', 'arp', 'ipv6-icmp', 'icmp', 'esp', 'llc', 'ipv6', 'pim', 'gre', 'unas', 'ipnip', 'igmp', 'rtcp', 'ipx/spx', 'rarp', 'rtp', 'Dir', 'udp', 'TotPkts']\n"
     ]
    }
   ],
   "source": [
    "print(rank) #this is still reversed"
   ]
  },
  {
   "cell_type": "code",
   "execution_count": 28,
   "metadata": {},
   "outputs": [
    {
     "name": "stdout",
     "output_type": "stream",
     "text": [
      "Feature Ranking:\n",
      " SrcAddr     0.433533\n",
      "Sport       0.179375\n",
      "Dport       0.141426\n",
      "tcp         0.063453\n",
      "SrcBytes    0.049500\n",
      "DstAddr     0.044054\n",
      "TotBytes    0.034358\n",
      "Dur         0.029024\n",
      "State       0.025277\n",
      "dtype: float64\n"
     ]
    }
   ],
   "source": [
    "# Refit the model with the selected features\n",
    "model.fit(x[selected_features_BE], y)\n",
    "\n",
    "# Get feature importances for the selected features\n",
    "feature_importances = model.feature_importances_\n",
    "\n",
    "# Create a pandas Series to rank the selected features\n",
    "ranking = pd.Series(feature_importances, index=selected_features_BE)\n",
    "\n",
    "# Sort by importance\n",
    "ranking = ranking.sort_values(ascending=False)\n",
    "print(\"Feature Ranking:\\n\", ranking)\n"
   ]
  },
  {
   "cell_type": "code",
   "execution_count": 29,
   "metadata": {},
   "outputs": [
    {
     "data": {
      "text/plain": [
       "['SrcAddr',\n",
       " 'Sport',\n",
       " 'Dport',\n",
       " 'tcp',\n",
       " 'SrcBytes',\n",
       " 'DstAddr',\n",
       " 'TotBytes',\n",
       " 'Dur',\n",
       " 'State']"
      ]
     },
     "execution_count": 29,
     "metadata": {},
     "output_type": "execute_result"
    }
   ],
   "source": [
    "a = list(ranking.index)\n",
    "a"
   ]
  },
  {
   "cell_type": "code",
   "execution_count": 30,
   "metadata": {},
   "outputs": [],
   "source": [
    "rank.reverse()"
   ]
  },
  {
   "cell_type": "code",
   "execution_count": 31,
   "metadata": {},
   "outputs": [
    {
     "name": "stdout",
     "output_type": "stream",
     "text": [
      "be ['SrcAddr', 'Sport', 'Dport', 'tcp', 'SrcBytes', 'DstAddr', 'TotBytes', 'Dur', 'State', 'TotPkts', 'udp', 'Dir', 'rtp', 'rarp', 'ipx/spx', 'rtcp', 'igmp', 'ipnip', 'unas', 'gre', 'pim', 'ipv6', 'llc', 'esp', 'icmp', 'ipv6-icmp', 'arp', 'rsvp', 'udt']\n"
     ]
    }
   ],
   "source": [
    "result_be = a + rank\n",
    "print('be', result_be)"
   ]
  },
  {
   "cell_type": "markdown",
   "metadata": {},
   "source": [
    "#### Recursive Feature Elimination (RFE)"
   ]
  },
  {
   "cell_type": "code",
   "execution_count": 32,
   "metadata": {},
   "outputs": [],
   "source": [
    "x = x_original.copy()"
   ]
  },
  {
   "cell_type": "code",
   "execution_count": 33,
   "metadata": {},
   "outputs": [
    {
     "data": {
      "text/html": [
       "<style>#sk-container-id-1 {\n",
       "  /* Definition of color scheme common for light and dark mode */\n",
       "  --sklearn-color-text: black;\n",
       "  --sklearn-color-line: gray;\n",
       "  /* Definition of color scheme for unfitted estimators */\n",
       "  --sklearn-color-unfitted-level-0: #fff5e6;\n",
       "  --sklearn-color-unfitted-level-1: #f6e4d2;\n",
       "  --sklearn-color-unfitted-level-2: #ffe0b3;\n",
       "  --sklearn-color-unfitted-level-3: chocolate;\n",
       "  /* Definition of color scheme for fitted estimators */\n",
       "  --sklearn-color-fitted-level-0: #f0f8ff;\n",
       "  --sklearn-color-fitted-level-1: #d4ebff;\n",
       "  --sklearn-color-fitted-level-2: #b3dbfd;\n",
       "  --sklearn-color-fitted-level-3: cornflowerblue;\n",
       "\n",
       "  /* Specific color for light theme */\n",
       "  --sklearn-color-text-on-default-background: var(--sg-text-color, var(--theme-code-foreground, var(--jp-content-font-color1, black)));\n",
       "  --sklearn-color-background: var(--sg-background-color, var(--theme-background, var(--jp-layout-color0, white)));\n",
       "  --sklearn-color-border-box: var(--sg-text-color, var(--theme-code-foreground, var(--jp-content-font-color1, black)));\n",
       "  --sklearn-color-icon: #696969;\n",
       "\n",
       "  @media (prefers-color-scheme: dark) {\n",
       "    /* Redefinition of color scheme for dark theme */\n",
       "    --sklearn-color-text-on-default-background: var(--sg-text-color, var(--theme-code-foreground, var(--jp-content-font-color1, white)));\n",
       "    --sklearn-color-background: var(--sg-background-color, var(--theme-background, var(--jp-layout-color0, #111)));\n",
       "    --sklearn-color-border-box: var(--sg-text-color, var(--theme-code-foreground, var(--jp-content-font-color1, white)));\n",
       "    --sklearn-color-icon: #878787;\n",
       "  }\n",
       "}\n",
       "\n",
       "#sk-container-id-1 {\n",
       "  color: var(--sklearn-color-text);\n",
       "}\n",
       "\n",
       "#sk-container-id-1 pre {\n",
       "  padding: 0;\n",
       "}\n",
       "\n",
       "#sk-container-id-1 input.sk-hidden--visually {\n",
       "  border: 0;\n",
       "  clip: rect(1px 1px 1px 1px);\n",
       "  clip: rect(1px, 1px, 1px, 1px);\n",
       "  height: 1px;\n",
       "  margin: -1px;\n",
       "  overflow: hidden;\n",
       "  padding: 0;\n",
       "  position: absolute;\n",
       "  width: 1px;\n",
       "}\n",
       "\n",
       "#sk-container-id-1 div.sk-dashed-wrapped {\n",
       "  border: 1px dashed var(--sklearn-color-line);\n",
       "  margin: 0 0.4em 0.5em 0.4em;\n",
       "  box-sizing: border-box;\n",
       "  padding-bottom: 0.4em;\n",
       "  background-color: var(--sklearn-color-background);\n",
       "}\n",
       "\n",
       "#sk-container-id-1 div.sk-container {\n",
       "  /* jupyter's `normalize.less` sets `[hidden] { display: none; }`\n",
       "     but bootstrap.min.css set `[hidden] { display: none !important; }`\n",
       "     so we also need the `!important` here to be able to override the\n",
       "     default hidden behavior on the sphinx rendered scikit-learn.org.\n",
       "     See: https://github.com/scikit-learn/scikit-learn/issues/21755 */\n",
       "  display: inline-block !important;\n",
       "  position: relative;\n",
       "}\n",
       "\n",
       "#sk-container-id-1 div.sk-text-repr-fallback {\n",
       "  display: none;\n",
       "}\n",
       "\n",
       "div.sk-parallel-item,\n",
       "div.sk-serial,\n",
       "div.sk-item {\n",
       "  /* draw centered vertical line to link estimators */\n",
       "  background-image: linear-gradient(var(--sklearn-color-text-on-default-background), var(--sklearn-color-text-on-default-background));\n",
       "  background-size: 2px 100%;\n",
       "  background-repeat: no-repeat;\n",
       "  background-position: center center;\n",
       "}\n",
       "\n",
       "/* Parallel-specific style estimator block */\n",
       "\n",
       "#sk-container-id-1 div.sk-parallel-item::after {\n",
       "  content: \"\";\n",
       "  width: 100%;\n",
       "  border-bottom: 2px solid var(--sklearn-color-text-on-default-background);\n",
       "  flex-grow: 1;\n",
       "}\n",
       "\n",
       "#sk-container-id-1 div.sk-parallel {\n",
       "  display: flex;\n",
       "  align-items: stretch;\n",
       "  justify-content: center;\n",
       "  background-color: var(--sklearn-color-background);\n",
       "  position: relative;\n",
       "}\n",
       "\n",
       "#sk-container-id-1 div.sk-parallel-item {\n",
       "  display: flex;\n",
       "  flex-direction: column;\n",
       "}\n",
       "\n",
       "#sk-container-id-1 div.sk-parallel-item:first-child::after {\n",
       "  align-self: flex-end;\n",
       "  width: 50%;\n",
       "}\n",
       "\n",
       "#sk-container-id-1 div.sk-parallel-item:last-child::after {\n",
       "  align-self: flex-start;\n",
       "  width: 50%;\n",
       "}\n",
       "\n",
       "#sk-container-id-1 div.sk-parallel-item:only-child::after {\n",
       "  width: 0;\n",
       "}\n",
       "\n",
       "/* Serial-specific style estimator block */\n",
       "\n",
       "#sk-container-id-1 div.sk-serial {\n",
       "  display: flex;\n",
       "  flex-direction: column;\n",
       "  align-items: center;\n",
       "  background-color: var(--sklearn-color-background);\n",
       "  padding-right: 1em;\n",
       "  padding-left: 1em;\n",
       "}\n",
       "\n",
       "\n",
       "/* Toggleable style: style used for estimator/Pipeline/ColumnTransformer box that is\n",
       "clickable and can be expanded/collapsed.\n",
       "- Pipeline and ColumnTransformer use this feature and define the default style\n",
       "- Estimators will overwrite some part of the style using the `sk-estimator` class\n",
       "*/\n",
       "\n",
       "/* Pipeline and ColumnTransformer style (default) */\n",
       "\n",
       "#sk-container-id-1 div.sk-toggleable {\n",
       "  /* Default theme specific background. It is overwritten whether we have a\n",
       "  specific estimator or a Pipeline/ColumnTransformer */\n",
       "  background-color: var(--sklearn-color-background);\n",
       "}\n",
       "\n",
       "/* Toggleable label */\n",
       "#sk-container-id-1 label.sk-toggleable__label {\n",
       "  cursor: pointer;\n",
       "  display: block;\n",
       "  width: 100%;\n",
       "  margin-bottom: 0;\n",
       "  padding: 0.5em;\n",
       "  box-sizing: border-box;\n",
       "  text-align: center;\n",
       "}\n",
       "\n",
       "#sk-container-id-1 label.sk-toggleable__label-arrow:before {\n",
       "  /* Arrow on the left of the label */\n",
       "  content: \"▸\";\n",
       "  float: left;\n",
       "  margin-right: 0.25em;\n",
       "  color: var(--sklearn-color-icon);\n",
       "}\n",
       "\n",
       "#sk-container-id-1 label.sk-toggleable__label-arrow:hover:before {\n",
       "  color: var(--sklearn-color-text);\n",
       "}\n",
       "\n",
       "/* Toggleable content - dropdown */\n",
       "\n",
       "#sk-container-id-1 div.sk-toggleable__content {\n",
       "  max-height: 0;\n",
       "  max-width: 0;\n",
       "  overflow: hidden;\n",
       "  text-align: left;\n",
       "  /* unfitted */\n",
       "  background-color: var(--sklearn-color-unfitted-level-0);\n",
       "}\n",
       "\n",
       "#sk-container-id-1 div.sk-toggleable__content.fitted {\n",
       "  /* fitted */\n",
       "  background-color: var(--sklearn-color-fitted-level-0);\n",
       "}\n",
       "\n",
       "#sk-container-id-1 div.sk-toggleable__content pre {\n",
       "  margin: 0.2em;\n",
       "  border-radius: 0.25em;\n",
       "  color: var(--sklearn-color-text);\n",
       "  /* unfitted */\n",
       "  background-color: var(--sklearn-color-unfitted-level-0);\n",
       "}\n",
       "\n",
       "#sk-container-id-1 div.sk-toggleable__content.fitted pre {\n",
       "  /* unfitted */\n",
       "  background-color: var(--sklearn-color-fitted-level-0);\n",
       "}\n",
       "\n",
       "#sk-container-id-1 input.sk-toggleable__control:checked~div.sk-toggleable__content {\n",
       "  /* Expand drop-down */\n",
       "  max-height: 200px;\n",
       "  max-width: 100%;\n",
       "  overflow: auto;\n",
       "}\n",
       "\n",
       "#sk-container-id-1 input.sk-toggleable__control:checked~label.sk-toggleable__label-arrow:before {\n",
       "  content: \"▾\";\n",
       "}\n",
       "\n",
       "/* Pipeline/ColumnTransformer-specific style */\n",
       "\n",
       "#sk-container-id-1 div.sk-label input.sk-toggleable__control:checked~label.sk-toggleable__label {\n",
       "  color: var(--sklearn-color-text);\n",
       "  background-color: var(--sklearn-color-unfitted-level-2);\n",
       "}\n",
       "\n",
       "#sk-container-id-1 div.sk-label.fitted input.sk-toggleable__control:checked~label.sk-toggleable__label {\n",
       "  background-color: var(--sklearn-color-fitted-level-2);\n",
       "}\n",
       "\n",
       "/* Estimator-specific style */\n",
       "\n",
       "/* Colorize estimator box */\n",
       "#sk-container-id-1 div.sk-estimator input.sk-toggleable__control:checked~label.sk-toggleable__label {\n",
       "  /* unfitted */\n",
       "  background-color: var(--sklearn-color-unfitted-level-2);\n",
       "}\n",
       "\n",
       "#sk-container-id-1 div.sk-estimator.fitted input.sk-toggleable__control:checked~label.sk-toggleable__label {\n",
       "  /* fitted */\n",
       "  background-color: var(--sklearn-color-fitted-level-2);\n",
       "}\n",
       "\n",
       "#sk-container-id-1 div.sk-label label.sk-toggleable__label,\n",
       "#sk-container-id-1 div.sk-label label {\n",
       "  /* The background is the default theme color */\n",
       "  color: var(--sklearn-color-text-on-default-background);\n",
       "}\n",
       "\n",
       "/* On hover, darken the color of the background */\n",
       "#sk-container-id-1 div.sk-label:hover label.sk-toggleable__label {\n",
       "  color: var(--sklearn-color-text);\n",
       "  background-color: var(--sklearn-color-unfitted-level-2);\n",
       "}\n",
       "\n",
       "/* Label box, darken color on hover, fitted */\n",
       "#sk-container-id-1 div.sk-label.fitted:hover label.sk-toggleable__label.fitted {\n",
       "  color: var(--sklearn-color-text);\n",
       "  background-color: var(--sklearn-color-fitted-level-2);\n",
       "}\n",
       "\n",
       "/* Estimator label */\n",
       "\n",
       "#sk-container-id-1 div.sk-label label {\n",
       "  font-family: monospace;\n",
       "  font-weight: bold;\n",
       "  display: inline-block;\n",
       "  line-height: 1.2em;\n",
       "}\n",
       "\n",
       "#sk-container-id-1 div.sk-label-container {\n",
       "  text-align: center;\n",
       "}\n",
       "\n",
       "/* Estimator-specific */\n",
       "#sk-container-id-1 div.sk-estimator {\n",
       "  font-family: monospace;\n",
       "  border: 1px dotted var(--sklearn-color-border-box);\n",
       "  border-radius: 0.25em;\n",
       "  box-sizing: border-box;\n",
       "  margin-bottom: 0.5em;\n",
       "  /* unfitted */\n",
       "  background-color: var(--sklearn-color-unfitted-level-0);\n",
       "}\n",
       "\n",
       "#sk-container-id-1 div.sk-estimator.fitted {\n",
       "  /* fitted */\n",
       "  background-color: var(--sklearn-color-fitted-level-0);\n",
       "}\n",
       "\n",
       "/* on hover */\n",
       "#sk-container-id-1 div.sk-estimator:hover {\n",
       "  /* unfitted */\n",
       "  background-color: var(--sklearn-color-unfitted-level-2);\n",
       "}\n",
       "\n",
       "#sk-container-id-1 div.sk-estimator.fitted:hover {\n",
       "  /* fitted */\n",
       "  background-color: var(--sklearn-color-fitted-level-2);\n",
       "}\n",
       "\n",
       "/* Specification for estimator info (e.g. \"i\" and \"?\") */\n",
       "\n",
       "/* Common style for \"i\" and \"?\" */\n",
       "\n",
       ".sk-estimator-doc-link,\n",
       "a:link.sk-estimator-doc-link,\n",
       "a:visited.sk-estimator-doc-link {\n",
       "  float: right;\n",
       "  font-size: smaller;\n",
       "  line-height: 1em;\n",
       "  font-family: monospace;\n",
       "  background-color: var(--sklearn-color-background);\n",
       "  border-radius: 1em;\n",
       "  height: 1em;\n",
       "  width: 1em;\n",
       "  text-decoration: none !important;\n",
       "  margin-left: 1ex;\n",
       "  /* unfitted */\n",
       "  border: var(--sklearn-color-unfitted-level-1) 1pt solid;\n",
       "  color: var(--sklearn-color-unfitted-level-1);\n",
       "}\n",
       "\n",
       ".sk-estimator-doc-link.fitted,\n",
       "a:link.sk-estimator-doc-link.fitted,\n",
       "a:visited.sk-estimator-doc-link.fitted {\n",
       "  /* fitted */\n",
       "  border: var(--sklearn-color-fitted-level-1) 1pt solid;\n",
       "  color: var(--sklearn-color-fitted-level-1);\n",
       "}\n",
       "\n",
       "/* On hover */\n",
       "div.sk-estimator:hover .sk-estimator-doc-link:hover,\n",
       ".sk-estimator-doc-link:hover,\n",
       "div.sk-label-container:hover .sk-estimator-doc-link:hover,\n",
       ".sk-estimator-doc-link:hover {\n",
       "  /* unfitted */\n",
       "  background-color: var(--sklearn-color-unfitted-level-3);\n",
       "  color: var(--sklearn-color-background);\n",
       "  text-decoration: none;\n",
       "}\n",
       "\n",
       "div.sk-estimator.fitted:hover .sk-estimator-doc-link.fitted:hover,\n",
       ".sk-estimator-doc-link.fitted:hover,\n",
       "div.sk-label-container:hover .sk-estimator-doc-link.fitted:hover,\n",
       ".sk-estimator-doc-link.fitted:hover {\n",
       "  /* fitted */\n",
       "  background-color: var(--sklearn-color-fitted-level-3);\n",
       "  color: var(--sklearn-color-background);\n",
       "  text-decoration: none;\n",
       "}\n",
       "\n",
       "/* Span, style for the box shown on hovering the info icon */\n",
       ".sk-estimator-doc-link span {\n",
       "  display: none;\n",
       "  z-index: 9999;\n",
       "  position: relative;\n",
       "  font-weight: normal;\n",
       "  right: .2ex;\n",
       "  padding: .5ex;\n",
       "  margin: .5ex;\n",
       "  width: min-content;\n",
       "  min-width: 20ex;\n",
       "  max-width: 50ex;\n",
       "  color: var(--sklearn-color-text);\n",
       "  box-shadow: 2pt 2pt 4pt #999;\n",
       "  /* unfitted */\n",
       "  background: var(--sklearn-color-unfitted-level-0);\n",
       "  border: .5pt solid var(--sklearn-color-unfitted-level-3);\n",
       "}\n",
       "\n",
       ".sk-estimator-doc-link.fitted span {\n",
       "  /* fitted */\n",
       "  background: var(--sklearn-color-fitted-level-0);\n",
       "  border: var(--sklearn-color-fitted-level-3);\n",
       "}\n",
       "\n",
       ".sk-estimator-doc-link:hover span {\n",
       "  display: block;\n",
       "}\n",
       "\n",
       "/* \"?\"-specific style due to the `<a>` HTML tag */\n",
       "\n",
       "#sk-container-id-1 a.estimator_doc_link {\n",
       "  float: right;\n",
       "  font-size: 1rem;\n",
       "  line-height: 1em;\n",
       "  font-family: monospace;\n",
       "  background-color: var(--sklearn-color-background);\n",
       "  border-radius: 1rem;\n",
       "  height: 1rem;\n",
       "  width: 1rem;\n",
       "  text-decoration: none;\n",
       "  /* unfitted */\n",
       "  color: var(--sklearn-color-unfitted-level-1);\n",
       "  border: var(--sklearn-color-unfitted-level-1) 1pt solid;\n",
       "}\n",
       "\n",
       "#sk-container-id-1 a.estimator_doc_link.fitted {\n",
       "  /* fitted */\n",
       "  border: var(--sklearn-color-fitted-level-1) 1pt solid;\n",
       "  color: var(--sklearn-color-fitted-level-1);\n",
       "}\n",
       "\n",
       "/* On hover */\n",
       "#sk-container-id-1 a.estimator_doc_link:hover {\n",
       "  /* unfitted */\n",
       "  background-color: var(--sklearn-color-unfitted-level-3);\n",
       "  color: var(--sklearn-color-background);\n",
       "  text-decoration: none;\n",
       "}\n",
       "\n",
       "#sk-container-id-1 a.estimator_doc_link.fitted:hover {\n",
       "  /* fitted */\n",
       "  background-color: var(--sklearn-color-fitted-level-3);\n",
       "}\n",
       "</style><div id=\"sk-container-id-1\" class=\"sk-top-container\"><div class=\"sk-text-repr-fallback\"><pre>RFE(estimator=DecisionTreeClassifier(), n_features_to_select=1)</pre><b>In a Jupyter environment, please rerun this cell to show the HTML representation or trust the notebook. <br />On GitHub, the HTML representation is unable to render, please try loading this page with nbviewer.org.</b></div><div class=\"sk-container\" hidden><div class=\"sk-item sk-dashed-wrapped\"><div class=\"sk-label-container\"><div class=\"sk-label fitted sk-toggleable\"><input class=\"sk-toggleable__control sk-hidden--visually\" id=\"sk-estimator-id-1\" type=\"checkbox\" ><label for=\"sk-estimator-id-1\" class=\"sk-toggleable__label fitted sk-toggleable__label-arrow fitted\">&nbsp;&nbsp;RFE<a class=\"sk-estimator-doc-link fitted\" rel=\"noreferrer\" target=\"_blank\" href=\"https://scikit-learn.org/1.5/modules/generated/sklearn.feature_selection.RFE.html\">?<span>Documentation for RFE</span></a><span class=\"sk-estimator-doc-link fitted\">i<span>Fitted</span></span></label><div class=\"sk-toggleable__content fitted\"><pre>RFE(estimator=DecisionTreeClassifier(), n_features_to_select=1)</pre></div> </div></div><div class=\"sk-parallel\"><div class=\"sk-parallel-item\"><div class=\"sk-item\"><div class=\"sk-label-container\"><div class=\"sk-label fitted sk-toggleable\"><input class=\"sk-toggleable__control sk-hidden--visually\" id=\"sk-estimator-id-2\" type=\"checkbox\" ><label for=\"sk-estimator-id-2\" class=\"sk-toggleable__label fitted sk-toggleable__label-arrow fitted\">estimator: DecisionTreeClassifier</label><div class=\"sk-toggleable__content fitted\"><pre>DecisionTreeClassifier()</pre></div> </div></div><div class=\"sk-serial\"><div class=\"sk-item\"><div class=\"sk-estimator fitted sk-toggleable\"><input class=\"sk-toggleable__control sk-hidden--visually\" id=\"sk-estimator-id-3\" type=\"checkbox\" ><label for=\"sk-estimator-id-3\" class=\"sk-toggleable__label fitted sk-toggleable__label-arrow fitted\">&nbsp;DecisionTreeClassifier<a class=\"sk-estimator-doc-link fitted\" rel=\"noreferrer\" target=\"_blank\" href=\"https://scikit-learn.org/1.5/modules/generated/sklearn.tree.DecisionTreeClassifier.html\">?<span>Documentation for DecisionTreeClassifier</span></a></label><div class=\"sk-toggleable__content fitted\"><pre>DecisionTreeClassifier()</pre></div> </div></div></div></div></div></div></div></div></div>"
      ],
      "text/plain": [
       "RFE(estimator=DecisionTreeClassifier(), n_features_to_select=1)"
      ]
     },
     "execution_count": 33,
     "metadata": {},
     "output_type": "execute_result"
    }
   ],
   "source": [
    "from sklearn.feature_selection import RFE\n",
    "from sklearn.tree import DecisionTreeClassifier\n",
    "\n",
    "# Initialize the model\n",
    "model = DecisionTreeClassifier()\n",
    "\n",
    "# Initialize RFE\n",
    "rfe = RFE(estimator=model, n_features_to_select=1)  # Rank all features\n",
    "rfe.fit(x, y)"
   ]
  },
  {
   "cell_type": "code",
   "execution_count": 34,
   "metadata": {},
   "outputs": [
    {
     "name": "stdout",
     "output_type": "stream",
     "text": [
      "Feature Rankings (lower is better):\n",
      " SrcAddr       1\n",
      "Dport         2\n",
      "Sport         3\n",
      "tcp           4\n",
      "SrcBytes      5\n",
      "DstAddr       6\n",
      "TotBytes      7\n",
      "Dur           8\n",
      "State         9\n",
      "TotPkts      10\n",
      "Dir          11\n",
      "udp          12\n",
      "rtp          13\n",
      "esp          14\n",
      "rtcp         15\n",
      "rarp         16\n",
      "ipx/spx      17\n",
      "ipnip        18\n",
      "igmp         19\n",
      "unas         20\n",
      "llc          21\n",
      "gre          22\n",
      "pim          23\n",
      "ipv6         24\n",
      "icmp         25\n",
      "ipv6-icmp    26\n",
      "arp          27\n",
      "udt          28\n",
      "rsvp         29\n",
      "dtype: int64\n"
     ]
    }
   ],
   "source": [
    "# Get feature rankings\n",
    "ranking = pd.Series(rfe.ranking_, index=x.columns)\n",
    "ranking = ranking.sort_values()\n",
    "\n",
    "print(\"Feature Rankings (lower is better):\\n\", ranking)"
   ]
  },
  {
   "cell_type": "code",
   "execution_count": 35,
   "metadata": {},
   "outputs": [
    {
     "name": "stdout",
     "output_type": "stream",
     "text": [
      "rfe ['SrcAddr', 'Dport', 'Sport', 'tcp', 'SrcBytes', 'DstAddr', 'TotBytes', 'Dur', 'State', 'TotPkts', 'Dir', 'udp', 'rtp', 'esp', 'rtcp', 'rarp', 'ipx/spx', 'ipnip', 'igmp', 'unas', 'llc', 'gre', 'pim', 'ipv6', 'icmp', 'ipv6-icmp', 'arp', 'udt', 'rsvp']\n"
     ]
    }
   ],
   "source": [
    "result_rfe = list(ranking.index)\n",
    "print('rfe', result_rfe)"
   ]
  },
  {
   "cell_type": "markdown",
   "metadata": {},
   "source": [
    "#### SelectFromModel-TreeBase (SFM-TB)"
   ]
  },
  {
   "cell_type": "code",
   "execution_count": 36,
   "metadata": {},
   "outputs": [],
   "source": [
    "x = x_original.copy()"
   ]
  },
  {
   "cell_type": "code",
   "execution_count": 37,
   "metadata": {},
   "outputs": [],
   "source": [
    "from sklearn.feature_selection import SelectFromModel\n",
    "from sklearn.ensemble import RandomForestClassifier  # Example tree-based model\n",
    "\n",
    "# Initialize the tree-based model\n",
    "model = RandomForestClassifier(random_state=42)"
   ]
  },
  {
   "cell_type": "code",
   "execution_count": 38,
   "metadata": {},
   "outputs": [
    {
     "name": "stdout",
     "output_type": "stream",
     "text": [
      "Selected features: Index(['TotBytes', 'Dur', 'State', 'SrcBytes', 'DstAddr', 'SrcAddr', 'Dport',\n",
      "       'Sport', 'TotPkts'],\n",
      "      dtype='object')\n"
     ]
    }
   ],
   "source": [
    "# Fit the model\n",
    "sfm = SelectFromModel(estimator=model, threshold='mean')  # Use 'mean' threshold or specify a custom one\n",
    "sfm.fit(x, y)\n",
    "\n",
    "# Get the selected features\n",
    "selected_features = x.columns[sfm.get_support()]\n",
    "print(\"Selected features:\", selected_features)"
   ]
  },
  {
   "cell_type": "code",
   "execution_count": 39,
   "metadata": {},
   "outputs": [
    {
     "name": "stdout",
     "output_type": "stream",
     "text": [
      "Feature Importances:\n",
      " SrcAddr      2.409777e-01\n",
      "Sport        1.412919e-01\n",
      "Dport        1.216177e-01\n",
      "DstAddr      9.484028e-02\n",
      "State        7.597239e-02\n",
      "TotBytes     7.569476e-02\n",
      "SrcBytes     7.369445e-02\n",
      "Dur          6.532251e-02\n",
      "TotPkts      5.137944e-02\n",
      "tcp          2.278424e-02\n",
      "udp          1.877665e-02\n",
      "Dir          1.562092e-02\n",
      "icmp         1.866118e-03\n",
      "igmp         8.714665e-05\n",
      "rtp          3.475530e-05\n",
      "rtcp         2.346950e-05\n",
      "arp          8.763831e-06\n",
      "ipv6-icmp    3.686531e-06\n",
      "ipx/spx      1.413466e-06\n",
      "esp          6.125932e-07\n",
      "ipv6         5.857025e-07\n",
      "pim          2.449186e-07\n",
      "llc          1.353601e-07\n",
      "udt          7.420024e-08\n",
      "unas         1.849219e-08\n",
      "rarp         9.209668e-10\n",
      "gre          3.872540e-10\n",
      "rsvp         1.592583e-11\n",
      "ipnip        0.000000e+00\n",
      "dtype: float64\n"
     ]
    }
   ],
   "source": [
    "# Fit the model directly to get feature importances\n",
    "model.fit(x, y)\n",
    "feature_importances = model.feature_importances_\n",
    "\n",
    "# Rank the features\n",
    "ranking = pd.Series(feature_importances, index=x.columns).sort_values(ascending=False)\n",
    "print(\"Feature Importances:\\n\", ranking)"
   ]
  },
  {
   "cell_type": "code",
   "execution_count": 40,
   "metadata": {},
   "outputs": [
    {
     "name": "stdout",
     "output_type": "stream",
     "text": [
      "sfm_tb ['SrcAddr', 'Sport', 'Dport', 'DstAddr', 'State', 'TotBytes', 'SrcBytes', 'Dur', 'TotPkts', 'tcp', 'udp', 'Dir', 'icmp', 'igmp', 'rtp', 'rtcp', 'arp', 'ipv6-icmp', 'ipx/spx', 'esp', 'ipv6', 'pim', 'llc', 'udt', 'unas', 'rarp', 'gre', 'rsvp', 'ipnip']\n"
     ]
    }
   ],
   "source": [
    "result_sfm_tb = list(ranking.index)\n",
    "print('sfm_tb', result_sfm_tb)"
   ]
  },
  {
   "cell_type": "markdown",
   "metadata": {},
   "source": [
    "#### Rank Aggregation"
   ]
  },
  {
   "cell_type": "code",
   "execution_count": 41,
   "metadata": {},
   "outputs": [
    {
     "name": "stdout",
     "output_type": "stream",
     "text": [
      "['SrcBytes', 'TotBytes', 'SrcAddr', 'DstAddr', 'Sport', 'Dport', 'TotPkts', 'State', 'Dur', 'tcp', 'Dir', 'udp', 'icmp', 'igmp', 'rtp', 'rtcp', 'arp', 'ipv6-icmp', 'ipx/spx', 'ipv6', 'pim', 'udt', 'esp', 'rarp', 'unas', 'llc', 'gre', 'rsvp', 'ipnip']\n",
      "['State', 'tcp', 'udp', 'Dir', 'Sport', 'DstAddr', 'Dport', 'SrcAddr', 'SrcBytes', 'Dur', 'icmp', 'TotBytes', 'TotPkts', 'igmp', 'rtp', 'rtcp', 'arp', 'ipv6-icmp', 'ipx/spx', 'ipv6', 'pim', 'udt', 'esp', 'rarp', 'unas', 'llc', 'gre', 'rsvp', 'ipnip']\n",
      "['SrcAddr', 'DstAddr', 'Dur', 'TotBytes', 'Dport', 'Sport', 'SrcBytes', 'State', 'TotPkts', 'Dir', 'udp', 'tcp', 'icmp', 'gre', 'llc', 'ipv6-icmp', 'pim', 'rtp', 'rtcp', 'rarp', 'igmp', 'arp', 'rsvp', 'udt', 'esp', 'ipv6', 'unas', 'ipnip', 'ipx/spx']\n",
      "['TotBytes', 'SrcBytes', 'SrcAddr', 'DstAddr', 'Dport', 'Sport', 'TotPkts', 'Dur', 'State', 'Dir', 'udp', 'tcp', 'icmp', 'igmp', 'rtp', 'rtcp', 'arp', 'ipv6-icmp', 'ipx/spx', 'ipv6', 'pim', 'udt', 'esp', 'rarp', 'unas', 'llc', 'gre', 'rsvp', 'ipnip']\n",
      "['SrcAddr', 'Sport', 'Dport', 'tcp', 'SrcBytes', 'DstAddr', 'TotBytes', 'Dur', 'State', 'TotPkts', 'udp', 'Dir', 'rtp', 'rarp', 'ipx/spx', 'rtcp', 'igmp', 'ipnip', 'unas', 'gre', 'pim', 'ipv6', 'llc', 'esp', 'icmp', 'ipv6-icmp', 'arp', 'rsvp', 'udt']\n",
      "['SrcAddr', 'Dport', 'Sport', 'tcp', 'SrcBytes', 'DstAddr', 'TotBytes', 'Dur', 'State', 'TotPkts', 'Dir', 'udp', 'rtp', 'esp', 'rtcp', 'rarp', 'ipx/spx', 'ipnip', 'igmp', 'unas', 'llc', 'gre', 'pim', 'ipv6', 'icmp', 'ipv6-icmp', 'arp', 'udt', 'rsvp']\n",
      "['SrcAddr', 'Sport', 'Dport', 'DstAddr', 'State', 'TotBytes', 'SrcBytes', 'Dur', 'TotPkts', 'tcp', 'udp', 'Dir', 'icmp', 'igmp', 'rtp', 'rtcp', 'arp', 'ipv6-icmp', 'ipx/spx', 'esp', 'ipv6', 'pim', 'llc', 'udt', 'unas', 'rarp', 'gre', 'rsvp', 'ipnip']\n"
     ]
    }
   ],
   "source": [
    "print(result_skb_chi2)\n",
    "print(result_skb_af)\n",
    "print(result_skb_mi)\n",
    "print(result_vt)\n",
    "print(result_be)\n",
    "print(result_rfe)\n",
    "print(result_sfm_tb)"
   ]
  },
  {
   "cell_type": "code",
   "execution_count": 42,
   "metadata": {},
   "outputs": [],
   "source": [
    "features = {\n",
    "    'SrcAddr': 0, \n",
    "    'TotBytes': 0, \n",
    "    'DstAddr': 0, \n",
    "    'Sport': 0, \n",
    "    'Dport': 0, \n",
    "    'SrcBytes': 0, \n",
    "    'Dur': 0, \n",
    "    'State': 0, \n",
    "    'TotPkts': 0, \n",
    "    'tcp': 0, \n",
    "    'Dir': 0, \n",
    "    'udp': 0, \n",
    "    'icmp': 0, \n",
    "    'igmp': 0, \n",
    "    'rtp': 0, \n",
    "    'rtcp': 0, \n",
    "    'arp': 0, \n",
    "    'ipv6-icmp': 0, \n",
    "    'ipx/spx': 0, \n",
    "    'pim': 0, \n",
    "    'udt': 0, \n",
    "    'ipv6': 0, \n",
    "    'esp': 0, \n",
    "    'rarp': 0, \n",
    "    'unas': 0, \n",
    "    'gre': 0, \n",
    "    'ipnip': 0, \n",
    "    'llc': 0, \n",
    "    'rsvp': 0\n",
    "}"
   ]
  },
  {
   "cell_type": "code",
   "execution_count": 43,
   "metadata": {},
   "outputs": [],
   "source": [
    "for i, j in enumerate(result_skb_chi2):\n",
    "    features[j] += i\n",
    "for i, j in enumerate(result_skb_af):\n",
    "    features[j] += i\n",
    "for i, j in enumerate(result_skb_mi):\n",
    "    features[j] += i\n",
    "for i, j in enumerate(result_vt):\n",
    "    features[j] += i\n",
    "for i, j in enumerate(result_be):\n",
    "    features[j] += i\n",
    "for i, j in enumerate(result_rfe):\n",
    "    features[j] += i\n",
    "for i, j in enumerate(result_sfm_tb):\n",
    "    features[j] += i"
   ]
  },
  {
   "cell_type": "code",
   "execution_count": 44,
   "metadata": {},
   "outputs": [
    {
     "data": {
      "text/plain": [
       "{'SrcAddr': 11,\n",
       " 'Sport': 22,\n",
       " 'Dport': 24,\n",
       " 'DstAddr': 25,\n",
       " 'SrcBytes': 29,\n",
       " 'TotBytes': 32,\n",
       " 'State': 42,\n",
       " 'Dur': 47,\n",
       " 'tcp': 47,\n",
       " 'TotPkts': 58,\n",
       " 'Dir': 63,\n",
       " 'udp': 64,\n",
       " 'rtp': 97,\n",
       " 'icmp': 106,\n",
       " 'igmp': 106,\n",
       " 'rtcp': 107,\n",
       " 'ipx/spx': 130,\n",
       " 'ipv6-icmp': 133,\n",
       " 'arp': 137,\n",
       " 'pim': 139,\n",
       " 'rarp': 141,\n",
       " 'esp': 145,\n",
       " 'ipv6': 146,\n",
       " 'llc': 153,\n",
       " 'gre': 157,\n",
       " 'unas': 159,\n",
       " 'udt': 164,\n",
       " 'ipnip': 173,\n",
       " 'rsvp': 185}"
      ]
     },
     "execution_count": 44,
     "metadata": {},
     "output_type": "execute_result"
    }
   ],
   "source": [
    "result_final = dict(sorted(features.items(), key=lambda item: item[1]))\n",
    "result_final"
   ]
  }
 ],
 "metadata": {
  "kernelspec": {
   "display_name": "Python 3",
   "language": "python",
   "name": "python3"
  },
  "language_info": {
   "codemirror_mode": {
    "name": "ipython",
    "version": 3
   },
   "file_extension": ".py",
   "mimetype": "text/x-python",
   "name": "python",
   "nbconvert_exporter": "python",
   "pygments_lexer": "ipython3",
   "version": "3.13.0"
  }
 },
 "nbformat": 4,
 "nbformat_minor": 2
}

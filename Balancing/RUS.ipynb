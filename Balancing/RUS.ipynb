{
 "cells": [
  {
   "cell_type": "markdown",
   "id": "064b02a8",
   "metadata": {},
   "source": [
    "# Random Under Sampling Balancing"
   ]
  },
  {
   "cell_type": "code",
   "execution_count": 1,
   "id": "f507a5b3",
   "metadata": {},
   "outputs": [],
   "source": [
    "# Independences\n",
    "import pandas as pd\n",
    "from imblearn.under_sampling import RandomUnderSampler"
   ]
  },
  {
   "cell_type": "code",
   "execution_count": null,
   "id": "44fd88fa",
   "metadata": {},
   "outputs": [],
   "source": [
    "# Import files\n",
    "df_train = pd.read_csv('Datasets/train-train.csv')"
   ]
  },
  {
   "cell_type": "code",
   "execution_count": 3,
   "id": "95b680c1",
   "metadata": {},
   "outputs": [
    {
     "name": "stdout",
     "output_type": "stream",
     "text": [
      "train_sum: 15030469\n",
      "\n",
      "Before RUS Balancing:\n",
      "Label\n",
      "normal         14346045\n",
      "botnet           614556\n",
      "botnet_spam       69868\n",
      "Name: count, dtype: int64\n"
     ]
    }
   ],
   "source": [
    "print('train_sum:', len(df_train))\n",
    "print()\n",
    "print('Before RUS Balancing:')\n",
    "print(df_train['Label'].value_counts())"
   ]
  },
  {
   "cell_type": "markdown",
   "id": "66e83f7c",
   "metadata": {},
   "source": [
    "### Balancing"
   ]
  },
  {
   "cell_type": "code",
   "execution_count": 4,
   "id": "70b4c5e1",
   "metadata": {},
   "outputs": [],
   "source": [
    "def stage1_label(label):\n",
    "    return 0 if label == 'normal' else 1\n",
    "\n",
    "def stage2_label(label):\n",
    "    return 1 if 'spam' in label else 0\n",
    "\n",
    "def multiclass_label(label):\n",
    "    if label == 'normal':\n",
    "        return 0\n",
    "    elif 'spam' in label:\n",
    "        return 2\n",
    "    else:\n",
    "        return 1\n",
    "\n",
    "df_train['Multiclass_Label'] = df_train['Label'].apply(multiclass_label)\n",
    "x_train = df_train.drop(columns=['Label', 'Multiclass_Label'])\n",
    "y_train = df_train['Multiclass_Label']"
   ]
  },
  {
   "cell_type": "code",
   "execution_count": 5,
   "id": "9c9b0fbe",
   "metadata": {},
   "outputs": [],
   "source": [
    "rs = RandomUnderSampler() \n",
    "x_train_balance, y_train_balance = rs.fit_resample(x_train, y_train)\n",
    "train_balance = x_train_balance.join(y_train_balance)"
   ]
  },
  {
   "cell_type": "code",
   "execution_count": 6,
   "id": "af21ee1d",
   "metadata": {},
   "outputs": [],
   "source": [
    "def labeling(label):\n",
    "    if label == 0:\n",
    "        return 'normal'\n",
    "    elif label == 1:\n",
    "        return 'botnet'\n",
    "    else:\n",
    "        return 'botnet_spam'\n",
    "\n",
    "train_balance['Label'] = train_balance['Multiclass_Label'].apply(labeling)\n",
    "train_balance = train_balance.drop(columns=['Multiclass_Label'])"
   ]
  },
  {
   "cell_type": "code",
   "execution_count": 7,
   "id": "466f0b7e",
   "metadata": {},
   "outputs": [
    {
     "data": {
      "text/plain": [
       "Index(['TotBytes', 'Dur', 'udt', 'rsvp', 'State', 'arp', 'udp', 'SrcBytes',\n",
       "       'DstAddr', 'ipv6-icmp', 'icmp', 'tcp', 'SrcAddr', 'Dport', 'esp',\n",
       "       'Sport', 'llc', 'ipv6', 'rtp', 'pim', 'gre', 'unas', 'TotPkts', 'Dir',\n",
       "       'ipnip', 'igmp', 'rtcp', 'ipx/spx', 'rarp', 'Label'],\n",
       "      dtype='object')"
      ]
     },
     "execution_count": 7,
     "metadata": {},
     "output_type": "execute_result"
    }
   ],
   "source": [
    "train_balance.columns"
   ]
  },
  {
   "cell_type": "code",
   "execution_count": 8,
   "id": "78783aed",
   "metadata": {},
   "outputs": [
    {
     "name": "stdout",
     "output_type": "stream",
     "text": [
      "train_sum: 209604\n",
      "\n",
      "Before RUS Balancing:\n",
      "Label\n",
      "normal         69868\n",
      "botnet         69868\n",
      "botnet_spam    69868\n",
      "Name: count, dtype: int64\n"
     ]
    }
   ],
   "source": [
    "print('train_sum:', len(train_balance))\n",
    "print()\n",
    "print('Before RUS Balancing:')\n",
    "print(train_balance['Label'].value_counts())"
   ]
  },
  {
   "cell_type": "code",
   "execution_count": null,
   "id": "6db4a100",
   "metadata": {},
   "outputs": [],
   "source": [
    "# train_balance.to_csv(f'train-rus.csv', index=False)"
   ]
  }
 ],
 "metadata": {
  "kernelspec": {
   "display_name": "Python 3",
   "language": "python",
   "name": "python3"
  },
  "language_info": {
   "codemirror_mode": {
    "name": "ipython",
    "version": 3
   },
   "file_extension": ".py",
   "mimetype": "text/x-python",
   "name": "python",
   "nbconvert_exporter": "python",
   "pygments_lexer": "ipython3",
   "version": "3.13.0"
  }
 },
 "nbformat": 4,
 "nbformat_minor": 5
}
